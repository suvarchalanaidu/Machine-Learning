{
 "cells": [
  {
   "cell_type": "code",
   "execution_count": 1,
   "metadata": {},
   "outputs": [
    {
     "name": "stdout",
     "output_type": "stream",
     "text": [
      "[[15624510 'Male' 19.0 19000.0]\n",
      " [15810944 'Male' 35.0 20000.0]\n",
      " [15668575 'Female' 26.0 43000.0]\n",
      " ...\n",
      " [15654296 'Female' 50.0 20000.0]\n",
      " [15755018 'Male' 36.0 33000.0]\n",
      " [15594041 'Female' 49.0 36000.0]] \n",
      "\n"
     ]
    }
   ],
   "source": [
    "#importing libraries\n",
    "import pandas as pd\n",
    "import numpy as np\n",
    "\n",
    "#reading csv for training\n",
    "dataset = pd.read_csv('Social_Network_Ads.csv')\n",
    "header = ['UserID', 'Gender', 'Age', 'EstimatedSalary','Purchased']\n",
    "\n",
    "#matrix of feature, most of the datasets will have last column as dependant variable and first columns as features\"\"\"\n",
    "x = dataset.iloc[:, :-1].values\n",
    "#Dependant variable vector\"\"\"\n",
    "y = dataset.iloc[:, -1].values\n",
    "print(x, \"\\n\");\n",
    "# print(dataset.head(10));"
   ]
  },
  {
   "cell_type": "code",
   "execution_count": 2,
   "metadata": {},
   "outputs": [
    {
     "name": "stdout",
     "output_type": "stream",
     "text": [
      "[0 0 0 0 0 0 0 1 0 0 0 0 0 0 0 0 1 1 1 1 1 1 1 1 1 1 1 1 0 0 0 1 0 0 0 0 0\n",
      " 0 0 0 0 0 0 0 0 0 0 0 1 0 0 0 0 0 0 0 0 0 0 0 0 0 0 1 0 0 0 0 0 0 0 0 0 0\n",
      " 0 1 0 0 0 0 0 0 0 0 0 1 0 0 0 0 0 0 0 0 0 0 0 1 0 0 0 0 0 1 0 0 0 0 0 0 0\n",
      " 0 0 0 0 0 0 0 0 0 0 0 0 0 0 0 0 0 0 0 0 0 0 0 0 0 0 1 0 0 0 0 0 0 0 0 1 0\n",
      " 0 0 0 0 0 0 0 0 0 0 0 1 1 0 0 0 0 0 0 0 1 0 0 0 0 0 0 0 0 0 0 0 0 0 1 0 0\n",
      " 0 0 0 0 0 0 0 0 0 0 0 0 0 0 0 0 0 1 0 1 0 1 0 1 0 1 1 0 0 0 1 0 0 0 1 0 1\n",
      " 1 1 0 0 1 1 0 1 1 0 1 1 0 1 0 0 0 1 1 0 1 1 0 1 0 1 0 1 0 0 1 1 0 1 0 0 1\n",
      " 1 0 1 1 0 1 1 0 0 1 0 0 1 1 1 1 1 0 1 1 1 1 0 1 1 0 1 0 1 0 1 1 1 1 0 0 0\n",
      " 1 1 0 1 1 1 1 1 0 0 0 1 1 0 0 1 0 1 0 1 1 0 1 0 1 1 0 1 1 0 0 0 1 1 0 1 0\n",
      " 0 1 0 1 0 0 1 1 0 0 1 1 0 1 1 0 0 1 0 1 0 1 1 1 0 1 0 1 1 1 0 1 1 1 1 0 1\n",
      " 1 1 0 1 0 1 0 0 1 1 0 1 1 1 1 1 1 0 1 1 1 1 1 1 0 1 1 1 0 1]\n"
     ]
    }
   ],
   "source": [
    "print(y)"
   ]
  },
  {
   "cell_type": "markdown",
   "metadata": {},
   "source": [
    "## Taking Care of Missing data\n",
    "1) We can also ignore observation by deleting it, this will work if we have 1% missing data. 2) If there is a lot of missing data, we need to handle it by replacing missing data with an average of all the columns in which data is missing.\n",
    "\n",
    "We can replace it by using median, most frequent used value, average value which is most relavant.\n",
    "\n",
    "Applying this imputer object to the matrix of features\n",
    "Fit method - will exactly connect this imputer object to the matrix of features.It will look at the missing values in salary and age columns, and will compute average of salary but will not replace this value. So we need another method,imputer.transform()."
   ]
  },
  {
   "cell_type": "code",
   "execution_count": 3,
   "metadata": {},
   "outputs": [],
   "source": [
    "from sklearn.impute import SimpleImputer\n",
    "imputer = SimpleImputer(missing_values=np.nan, strategy='mean')\n",
    "imputer.fit(x[:, 2:4])\n",
    "x[:, 2:4] = imputer.transform(x[:, 2:4])"
   ]
  },
  {
   "cell_type": "code",
   "execution_count": 4,
   "metadata": {},
   "outputs": [
    {
     "name": "stdout",
     "output_type": "stream",
     "text": [
      "[[15624510 'Male' 19.0 19000.0]\n",
      " [15810944 'Male' 35.0 20000.0]\n",
      " [15668575 'Female' 26.0 43000.0]\n",
      " ...\n",
      " [15654296 'Female' 50.0 20000.0]\n",
      " [15755018 'Male' 36.0 33000.0]\n",
      " [15594041 'Female' 49.0 36000.0]]\n",
      "400\n"
     ]
    }
   ],
   "source": [
    "print(x)\n",
    "print(len(x))"
   ]
  },
  {
   "cell_type": "markdown",
   "metadata": {},
   "source": [
    "## Node Class"
   ]
  },
  {
   "cell_type": "code",
   "execution_count": 5,
   "metadata": {},
   "outputs": [],
   "source": [
    "class Question:\n",
    "    #class to divide the available dataset by asking question\n",
    "\n",
    "    def __init__(self,column = {},value={}):\n",
    "       \n",
    "        self.column = column\n",
    "        self.value = value\n",
    "\n",
    "    def match(self, example):\n",
    "     \n",
    "        val = example[self.column]\n",
    "        if is_numeric(val):\n",
    "            return val >= self.value\n",
    "        else:\n",
    "            return val == self.value\n",
    "\n",
    "    def __repr__(self):\n",
    "      #to print question\n",
    "        condition = \"==\"\n",
    "        if is_numeric(self.value):\n",
    "            condition = \">=\"\n",
    "        return \"Is %s %s %s?\" % (\n",
    "            header[self.column], condition, str(self.value))"
   ]
  },
  {
   "cell_type": "code",
   "execution_count": 6,
   "metadata": {},
   "outputs": [],
   "source": [
    "def partition(rows, question):\n",
    "    #data is divided into true rows and false rows based on how it satisfies the question/node\n",
    "    true_rows, false_rows = [], []\n",
    "    for row in rows:\n",
    "        if question.match(row):\n",
    "            true_rows.append(row)\n",
    "        else:\n",
    "            false_rows.append(row)\n",
    "    return true_rows, false_rows"
   ]
  },
  {
   "cell_type": "code",
   "execution_count": 7,
   "metadata": {},
   "outputs": [],
   "source": [
    "def is_numeric(value):\n",
    "    #Test if a value is numeric\n",
    "    return isinstance(value, int) or isinstance(value, float)"
   ]
  },
  {
   "cell_type": "code",
   "execution_count": 8,
   "metadata": {},
   "outputs": [],
   "source": [
    "def gini(rows):\n",
    "   #calculate gini impurity for rows - to determine which separation is best,we need a way to measure and compare impurity\n",
    "    counts = class_counts(rows)\n",
    "    impurity = 1\n",
    "    for lbl in counts:\n",
    "        prob_of_lbl = counts[lbl] / float(len(rows))\n",
    "        impurity -= prob_of_lbl**2\n",
    "    return impurity"
   ]
  },
  {
   "cell_type": "code",
   "execution_count": 9,
   "metadata": {},
   "outputs": [],
   "source": [
    "def info_gain(left, right, current_uncertainty):\n",
    "    #calculation of information gain -The uncertainty of the starting node, minus the weighted impurity of\n",
    "    #two child nodes.\n",
    "    p = float(len(left)) / (len(left) + len(right))\n",
    "    return current_uncertainty - p * gini(left) - (1 - p) * gini(right)"
   ]
  },
  {
   "cell_type": "code",
   "execution_count": 10,
   "metadata": {},
   "outputs": [],
   "source": [
    "def find_best_split(rows):\n",
    "    #finding the best question by iterating over every feature and calculating the information gain\n",
    "    \n",
    "    best_info_gain = 0  # keep track of the best information gain\n",
    "    best_node_question = None  # keep train of the feature that produced it\n",
    "    current_uncertainty = gini(rows)\n",
    "    \n",
    "    n_features = len(rows[0]) - 1  # number of columns\n",
    "\n",
    "    for col in range(n_features):  # for each feature\n",
    "\n",
    "        values = set([row[col] for row in rows])  # unique values in the column\n",
    "\n",
    "        for val in values:  # for each value\n",
    "\n",
    "            question = Question(col, val)\n",
    "\n",
    "            # try splitting the dataset\n",
    "            true_rows, false_rows = partition(rows, question)\n",
    "\n",
    "            # Skip this split if it doesn't divide the\n",
    "            # dataset.\n",
    "            if len(true_rows) == 0 or len(false_rows) == 0:\n",
    "                continue\n",
    "\n",
    "            # Calculate the information gain from this split\n",
    "            gain = info_gain(true_rows, false_rows, current_uncertainty)\n",
    "\n",
    "            if gain >= best_info_gain:\n",
    "                best_info_gain, best_node_question = gain, question\n",
    "\n",
    "    return best_info_gain, best_node_question\n",
    "   "
   ]
  },
  {
   "cell_type": "code",
   "execution_count": 11,
   "metadata": {},
   "outputs": [],
   "source": [
    "class Leaf:\n",
    "   \n",
    "    def __init__(self, rows):\n",
    "        self.predictions = class_counts(rows)"
   ]
  },
  {
   "cell_type": "code",
   "execution_count": 12,
   "metadata": {},
   "outputs": [],
   "source": [
    "class Decision_Node:\n",
    "      def __init__(self,\n",
    "                 question,\n",
    "                 true_branch,\n",
    "                 false_branch):\n",
    "        self.question = question\n",
    "        self.true_branch = true_branch\n",
    "        self.false_branch = false_branch"
   ]
  },
  {
   "cell_type": "code",
   "execution_count": 13,
   "metadata": {},
   "outputs": [],
   "source": [
    "def build_tree(rows):\n",
    "    # Partitioning the dataset on each of the unique attribute,\n",
    "    # calculate the information gain,\n",
    "    # and return the question that produces the highest gain.\n",
    "    gain, question = find_best_split(rows)\n",
    "\n",
    "    # if no further info gain\n",
    "        # we'll return a leaf.\n",
    "    if gain == 0:\n",
    "        return Leaf(rows)\n",
    "\n",
    "   \n",
    "    true_rows, false_rows = partition(rows, question)\n",
    "\n",
    "    # Recursively build the true branch.\n",
    "    true_branch = build_tree(true_rows)\n",
    "\n",
    "    # Recursively build the false branch.\n",
    "    false_branch = build_tree(false_rows)\n",
    "\n",
    "    # Return a Question node.\n",
    "    # This records the best feature / value to ask at this point,\n",
    "    # as well as the branches to follow\n",
    "    # depending on the answer.\n",
    "    return Decision_Node(question, true_branch, false_branch)"
   ]
  },
  {
   "cell_type": "code",
   "execution_count": 14,
   "metadata": {},
   "outputs": [],
   "source": [
    "def print_tree(node, spacing=\"\"):\n",
    "      # If we reached a leaf\n",
    "    if isinstance(node, Leaf):\n",
    "        print (spacing + \"Predict\", node.predictions)\n",
    "        return\n",
    "\n",
    "    # Print the question at this node\n",
    "    print (spacing + str(node.question))\n",
    "\n",
    "    # Call this function recursively on the true branch\n",
    "    print (spacing + '--> True:')\n",
    "    print_tree(node.true_branch, spacing + \"  \")\n",
    "\n",
    "    # Call this function recursively on the false branch\n",
    "    print (spacing + '--> False:')\n",
    "    print_tree(node.false_branch, spacing + \"  \")"
   ]
  },
  {
   "cell_type": "code",
   "execution_count": 15,
   "metadata": {},
   "outputs": [],
   "source": [
    "from sklearn.model_selection import train_test_split\n",
    "X_train, X_test, Y_train, Y_test = train_test_split(x, y, test_size=.2, random_state=41)\n",
    "#print(X_train)\n",
    "#my_tree = build_tree(training_data)"
   ]
  },
  {
   "cell_type": "code",
   "execution_count": 16,
   "metadata": {},
   "outputs": [],
   "source": [
    "def class_counts(rows):\n",
    "    #Counts the number of each type of occurence in a dataset\n",
    "    counts = {} \n",
    "    for row in rows:\n",
    "        # label is our last column which is the target\n",
    "        label = row[-1]\n",
    "        if label not in counts:\n",
    "            counts[label] = 0\n",
    "        counts[label] += 1\n",
    "    return counts"
   ]
  },
  {
   "cell_type": "code",
   "execution_count": 17,
   "metadata": {},
   "outputs": [
    {
     "name": "stdout",
     "output_type": "stream",
     "text": [
      "320\n"
     ]
    }
   ],
   "source": [
    "dataset = np.concatenate((X_train,Y_train[:,None]),axis=1)\n",
    "my_tree = build_tree(dataset)\n",
    "print(len(dataset))"
   ]
  },
  {
   "cell_type": "code",
   "execution_count": 18,
   "metadata": {},
   "outputs": [
    {
     "name": "stdout",
     "output_type": "stream",
     "text": [
      "Is Age >= 43.0?\n",
      "--> True:\n",
      "  Is EstimatedSalary >= 39000.0?\n",
      "  --> True:\n",
      "    Is Age >= 51.0?\n",
      "    --> True:\n",
      "      Is UserID >= 15794566?\n",
      "      --> True:\n",
      "        Is EstimatedSalary >= 114000.0?\n",
      "        --> True:\n",
      "          Predict {0: 1}\n",
      "        --> False:\n",
      "          Predict {1: 1}\n",
      "      --> False:\n",
      "        Is Age >= 59.0?\n",
      "        --> True:\n",
      "          Is Age >= 60.0?\n",
      "          --> True:\n",
      "            Predict {1: 5}\n",
      "          --> False:\n",
      "            Is EstimatedSalary >= 76000.0?\n",
      "            --> True:\n",
      "              Is UserID >= 15688172?\n",
      "              --> True:\n",
      "                Predict {1: 2}\n",
      "              --> False:\n",
      "                Predict {0: 1}\n",
      "            --> False:\n",
      "              Predict {0: 1}\n",
      "        --> False:\n",
      "          Predict {1: 19}\n",
      "    --> False:\n",
      "      Is EstimatedSalary >= 86000.0?\n",
      "      --> True:\n",
      "        Is UserID >= 15705298?\n",
      "        --> True:\n",
      "          Predict {1: 9}\n",
      "        --> False:\n",
      "          Is UserID >= 15638646?\n",
      "          --> True:\n",
      "            Is EstimatedSalary >= 96000.0?\n",
      "            --> True:\n",
      "              Predict {0: 3}\n",
      "            --> False:\n",
      "              Predict {1: 1}\n",
      "          --> False:\n",
      "            Predict {1: 4}\n",
      "      --> False:\n",
      "        Is UserID >= 15629739?\n",
      "        --> True:\n",
      "          Is Age >= 49.0?\n",
      "          --> True:\n",
      "            Is EstimatedSalary >= 44000.0?\n",
      "            --> True:\n",
      "              Predict {0: 3}\n",
      "            --> False:\n",
      "              Predict {1: 1}\n",
      "          --> False:\n",
      "            Is EstimatedSalary >= 49000.0?\n",
      "            --> True:\n",
      "              Predict {1: 5}\n",
      "            --> False:\n",
      "              Is UserID >= 15766609?\n",
      "              --> True:\n",
      "                Predict {0: 2}\n",
      "              --> False:\n",
      "                Predict {1: 1}\n",
      "        --> False:\n",
      "          Predict {0: 3}\n",
      "  --> False:\n",
      "    Is EstimatedSalary >= 23000.0?\n",
      "    --> True:\n",
      "      Predict {1: 22}\n",
      "    --> False:\n",
      "      Is UserID >= 15697424?\n",
      "      --> True:\n",
      "        Predict {0: 1}\n",
      "      --> False:\n",
      "        Predict {1: 3}\n",
      "--> False:\n",
      "  Is EstimatedSalary >= 91000.0?\n",
      "  --> True:\n",
      "    Is Age >= 35.0?\n",
      "    --> True:\n",
      "      Predict {1: 21}\n",
      "    --> False:\n",
      "      Is UserID >= 15782530?\n",
      "      --> True:\n",
      "        Is EstimatedSalary >= 148000.0?\n",
      "        --> True:\n",
      "          Predict {1: 1}\n",
      "        --> False:\n",
      "          Predict {0: 3}\n",
      "      --> False:\n",
      "        Is UserID >= 15582492?\n",
      "        --> True:\n",
      "          Is UserID >= 15651983?\n",
      "          --> True:\n",
      "            Predict {1: 8}\n",
      "          --> False:\n",
      "            Is EstimatedSalary >= 123000.0?\n",
      "            --> True:\n",
      "              Predict {1: 2}\n",
      "            --> False:\n",
      "              Predict {0: 1}\n",
      "        --> False:\n",
      "          Predict {0: 1}\n",
      "  --> False:\n",
      "    Is Age >= 37.0?\n",
      "    --> True:\n",
      "      Is EstimatedSalary >= 87000.0?\n",
      "      --> True:\n",
      "        Predict {1: 2}\n",
      "      --> False:\n",
      "        Is EstimatedSalary >= 75000.0?\n",
      "        --> True:\n",
      "          Is UserID >= 15721592?\n",
      "          --> True:\n",
      "            Predict {0: 9}\n",
      "          --> False:\n",
      "            Is UserID >= 15713912?\n",
      "            --> True:\n",
      "              Predict {1: 2}\n",
      "            --> False:\n",
      "              Is UserID >= 15594762?\n",
      "              --> True:\n",
      "                Is UserID >= 15649668?\n",
      "                --> True:\n",
      "                  Predict {0: 2}\n",
      "                --> False:\n",
      "                  Predict {1: 2}\n",
      "              --> False:\n",
      "                Predict {0: 2}\n",
      "        --> False:\n",
      "          Is Age >= 38.0?\n",
      "          --> True:\n",
      "            Predict {0: 38}\n",
      "          --> False:\n",
      "            Is Age >= 37.64321608040201?\n",
      "            --> True:\n",
      "              Predict {1: 1}\n",
      "            --> False:\n",
      "              Is UserID >= 15750447?\n",
      "              --> True:\n",
      "                Is EstimatedSalary >= 70000.0?\n",
      "                --> True:\n",
      "                  Predict {1: 1}\n",
      "                --> False:\n",
      "                  Predict {0: 1}\n",
      "              --> False:\n",
      "                Predict {0: 8}\n",
      "    --> False:\n",
      "      Predict {0: 127}\n"
     ]
    }
   ],
   "source": [
    "print_tree(my_tree)"
   ]
  },
  {
   "cell_type": "code",
   "execution_count": 19,
   "metadata": {},
   "outputs": [],
   "source": [
    "def classify(row, node):\n",
    "    # If we've reached a leaf\n",
    "    if isinstance(node, Leaf):\n",
    "        return node.predictions\n",
    "\n",
    "    # Decide whether to follow the true-branch or the false-branch.\n",
    "    # Compare the feature / value stored in the node,\n",
    "    \n",
    "    if node.question.match(row):\n",
    "        return classify(row, node.true_branch)\n",
    "    else:\n",
    "        return classify(row, node.false_branch)"
   ]
  },
  {
   "cell_type": "code",
   "execution_count": 20,
   "metadata": {},
   "outputs": [
    {
     "data": {
      "text/plain": [
       "{1: 21}"
      ]
     },
     "execution_count": 20,
     "metadata": {},
     "output_type": "execute_result"
    }
   ],
   "source": [
    "classify(dataset[0], my_tree)"
   ]
  },
  {
   "cell_type": "code",
   "execution_count": 24,
   "metadata": {},
   "outputs": [],
   "source": [
    "def print_leaf(counts):\n",
    "    #Print the predictions at a leaf.\n",
    "    total = sum(counts.values()) * 1.0\n",
    "    probs = {}\n",
    "    for lbl in counts.keys():\n",
    "        probs[lbl] = str(int(counts[lbl] / total * 100)) + \"%\"\n",
    "    return probs\n",
    "    #return total"
   ]
  },
  {
   "cell_type": "code",
   "execution_count": 28,
   "metadata": {},
   "outputs": [
    {
     "name": "stdout",
     "output_type": "stream",
     "text": [
      "80\n"
     ]
    }
   ],
   "source": [
    "dataset_test = np.concatenate((X_test,Y_test[:,None]),axis=1)\n",
    "dataset_test\n",
    "print(len(dataset_test))\n"
   ]
  },
  {
   "cell_type": "code",
   "execution_count": 38,
   "metadata": {
    "scrolled": true
   },
   "outputs": [
    {
     "name": "stdout",
     "output_type": "stream",
     "text": [
      "Actual: 1. Predicted: {1: '100%'}\n",
      "Actual: 1. Predicted: {1: '100%'}\n",
      "Actual: 1. Predicted: {1: '100%'}\n",
      "Actual: 1. Predicted: {1: '100%'}\n",
      "Actual: 0. Predicted: {0: '100%'}\n",
      "Actual: 0. Predicted: {1: '100%'}\n",
      "Actual: 0. Predicted: {0: '100%'}\n",
      "Actual: 0. Predicted: {1: '100%'}\n",
      "Actual: 1. Predicted: {0: '100%'}\n",
      "Actual: 0. Predicted: {0: '100%'}\n",
      "Actual: 1. Predicted: {0: '100%'}\n",
      "Actual: 0. Predicted: {0: '100%'}\n",
      "Actual: 1. Predicted: {1: '100%'}\n",
      "Actual: 0. Predicted: {1: '100%'}\n",
      "Actual: 0. Predicted: {0: '100%'}\n",
      "Actual: 1. Predicted: {1: '100%'}\n",
      "Actual: 1. Predicted: {0: '100%'}\n",
      "Actual: 0. Predicted: {0: '100%'}\n",
      "Actual: 1. Predicted: {1: '100%'}\n",
      "Actual: 0. Predicted: {0: '100%'}\n",
      "Actual: 0. Predicted: {0: '100%'}\n",
      "Actual: 1. Predicted: {1: '100%'}\n",
      "Actual: 0. Predicted: {0: '100%'}\n",
      "Actual: 0. Predicted: {0: '100%'}\n",
      "Actual: 0. Predicted: {0: '100%'}\n",
      "Actual: 1. Predicted: {1: '100%'}\n",
      "Actual: 1. Predicted: {1: '100%'}\n",
      "Actual: 0. Predicted: {0: '100%'}\n",
      "Actual: 0. Predicted: {0: '100%'}\n",
      "Actual: 0. Predicted: {1: '100%'}\n",
      "Actual: 0. Predicted: {0: '100%'}\n",
      "Actual: 1. Predicted: {0: '100%'}\n",
      "Actual: 0. Predicted: {0: '100%'}\n",
      "Actual: 0. Predicted: {0: '100%'}\n",
      "Actual: 1. Predicted: {1: '100%'}\n",
      "Actual: 1. Predicted: {1: '100%'}\n",
      "Actual: 0. Predicted: {0: '100%'}\n",
      "Actual: 1. Predicted: {1: '100%'}\n",
      "Actual: 0. Predicted: {0: '100%'}\n",
      "Actual: 0. Predicted: {0: '100%'}\n",
      "Actual: 0. Predicted: {0: '100%'}\n",
      "Actual: 0. Predicted: {0: '100%'}\n",
      "Actual: 0. Predicted: {0: '100%'}\n",
      "Actual: 0. Predicted: {0: '100%'}\n",
      "Actual: 0. Predicted: {0: '100%'}\n",
      "Actual: 0. Predicted: {0: '100%'}\n",
      "Actual: 1. Predicted: {1: '100%'}\n",
      "Actual: 0. Predicted: {0: '100%'}\n",
      "Actual: 0. Predicted: {0: '100%'}\n",
      "Actual: 0. Predicted: {0: '100%'}\n",
      "Actual: 0. Predicted: {0: '100%'}\n",
      "Actual: 1. Predicted: {0: '100%'}\n",
      "Actual: 1. Predicted: {1: '100%'}\n",
      "Actual: 0. Predicted: {0: '100%'}\n",
      "Actual: 1. Predicted: {1: '100%'}\n",
      "Actual: 0. Predicted: {0: '100%'}\n",
      "Actual: 0. Predicted: {0: '100%'}\n",
      "Actual: 1. Predicted: {1: '100%'}\n",
      "Actual: 0. Predicted: {0: '100%'}\n",
      "Actual: 0. Predicted: {0: '100%'}\n",
      "Actual: 1. Predicted: {1: '100%'}\n",
      "Actual: 0. Predicted: {0: '100%'}\n",
      "Actual: 1. Predicted: {1: '100%'}\n",
      "Actual: 0. Predicted: {0: '100%'}\n",
      "Actual: 0. Predicted: {0: '100%'}\n",
      "Actual: 0. Predicted: {1: '100%'}\n",
      "Actual: 1. Predicted: {1: '100%'}\n",
      "Actual: 0. Predicted: {0: '100%'}\n",
      "Actual: 0. Predicted: {0: '100%'}\n",
      "Actual: 1. Predicted: {1: '100%'}\n",
      "Actual: 1. Predicted: {1: '100%'}\n",
      "Actual: 1. Predicted: {1: '100%'}\n",
      "Actual: 1. Predicted: {1: '100%'}\n",
      "Actual: 0. Predicted: {0: '100%'}\n",
      "Actual: 0. Predicted: {0: '100%'}\n",
      "Actual: 0. Predicted: {0: '100%'}\n",
      "Actual: 0. Predicted: {0: '100%'}\n",
      "Actual: 1. Predicted: {1: '100%'}\n",
      "Actual: 0. Predicted: {0: '100%'}\n",
      "Actual: 0. Predicted: {0: '100%'}\n"
     ]
    }
   ],
   "source": [
    "actuals = []\n",
    "\n",
    "predicted =[]\n",
    "\n",
    "for row in dataset_test:\n",
    "    print (\"Actual: %s. Predicted: %s\" %\n",
    "             (row[-1], print_leaf(classify(row, my_tree))))\n",
    "\n",
    "    actuals.append(row[-1])\n",
    "    my_dict = print_leaf(classify(row, my_tree))\n",
    "    key_list = list(my_dict.keys())\n",
    "    predicted.append(key_list)\n",
    "    \n",
    "#converting to 1D array so that we get only the first value of classify()\n",
    "arr = np.array(predicted)\n",
    "flat_array = arr.flatten()"
   ]
  },
  {
   "cell_type": "code",
   "execution_count": 39,
   "metadata": {},
   "outputs": [
    {
     "data": {
      "text/plain": [
       "0.875"
      ]
     },
     "execution_count": 39,
     "metadata": {},
     "output_type": "execute_result"
    }
   ],
   "source": [
    "from sklearn.metrics import accuracy_score\n",
    "#to get the accuracy score\n",
    "accuracy_score(actuals, flat_array)"
   ]
  }
 ],
 "metadata": {
  "kernelspec": {
   "display_name": "Python 3",
   "language": "python",
   "name": "python3"
  },
  "language_info": {
   "codemirror_mode": {
    "name": "ipython",
    "version": 3
   },
   "file_extension": ".py",
   "mimetype": "text/x-python",
   "name": "python",
   "nbconvert_exporter": "python",
   "pygments_lexer": "ipython3",
   "version": "3.7.3"
  }
 },
 "nbformat": 4,
 "nbformat_minor": 5
}
